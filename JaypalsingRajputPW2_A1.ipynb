{
  "nbformat": 4,
  "nbformat_minor": 0,
  "metadata": {
    "kernelspec": {
      "display_name": "Python 3 (ipykernel)",
      "language": "python",
      "name": "python3"
    },
    "language_info": {
      "codemirror_mode": {
        "name": "ipython",
        "version": 3
      },
      "file_extension": ".py",
      "mimetype": "text/x-python",
      "name": "python",
      "nbconvert_exporter": "python",
      "pygments_lexer": "ipython3",
      "version": "3.9.1"
    },
    "toc": {
      "base_numbering": 1,
      "nav_menu": {},
      "number_sections": true,
      "sideBar": true,
      "skip_h1_title": false,
      "title_cell": "Table of Contents",
      "title_sidebar": "Contents",
      "toc_cell": false,
      "toc_position": {},
      "toc_section_display": true,
      "toc_window_display": false
    },
    "varInspector": {
      "cols": {
        "lenName": 16,
        "lenType": 16,
        "lenVar": 40
      },
      "kernels_config": {
        "python": {
          "delete_cmd_postfix": "",
          "delete_cmd_prefix": "del ",
          "library": "var_list.py",
          "varRefreshCmd": "print(var_dic_list())"
        },
        "r": {
          "delete_cmd_postfix": ") ",
          "delete_cmd_prefix": "rm(",
          "library": "var_list.r",
          "varRefreshCmd": "cat(var_dic_list()) "
        }
      },
      "types_to_exclude": [
        "module",
        "function",
        "builtin_function_or_method",
        "instance",
        "_Feature"
      ],
      "window_display": false
    },
    "colab": {
      "name": "JaypalsingRajputPW2-A1.ipynb",
      "provenance": [],
      "collapsed_sections": []
    }
  },
  "cells": [
    {
      "cell_type": "markdown",
      "metadata": {
        "deletable": false,
        "editable": false,
        "nbgrader": {
          "cell_type": "markdown",
          "checksum": "5d28e81fc60c746ecd05d524269b9275",
          "grade": false,
          "grade_id": "cell-0a1cd97d29171e27",
          "locked": true,
          "schema_version": 3,
          "solution": false,
          "task": false
        },
        "id": "uDQ29t60aolR"
      },
      "source": [
        "# Rules:\n",
        "    1. Follow the given instructions strictly as the assignment will be automatically rejected if not done so.\n",
        "    2. After you are done answering the questions, save the notebook in .ipynb format and rename it as so;\n",
        "        \n",
        "        <<Your name as visible on 'My Courses' page>>_PW2-A1.ipynb\n",
        "        \n",
        "    3. After renaming the file as above submit onto the platform."
      ]
    },
    {
      "cell_type": "markdown",
      "metadata": {
        "deletable": false,
        "editable": false,
        "nbgrader": {
          "cell_type": "markdown",
          "checksum": "c3e759877055ca3f22eccc6bb26a2db9",
          "grade": false,
          "grade_id": "cell-39806162dd625703",
          "locked": true,
          "schema_version": 3,
          "solution": false,
          "task": false
        },
        "id": "ZvsmqDQSaolW"
      },
      "source": [
        "# Python W2 - Assignment 01"
      ]
    },
    {
      "cell_type": "markdown",
      "metadata": {
        "deletable": false,
        "editable": false,
        "nbgrader": {
          "cell_type": "markdown",
          "checksum": "826356eed441591b2d82f7e2fbed11df",
          "grade": false,
          "grade_id": "Q1",
          "locked": true,
          "schema_version": 3,
          "solution": false,
          "task": false
        },
        "id": "0pnRMfw1aolW"
      },
      "source": [
        "\n",
        "## Data Collection Types\n",
        "\n",
        "List down the definitions and differences between the different data collection types in python\n",
        "\n",
        "Instructions:\n",
        "- Enter your solution in the cell block below only. Double click to edit.\n",
        "- Do not edit anything else apart from 'YOUR ANSWER HERE' for your solution"
      ]
    },
    {
      "cell_type": "markdown",
      "metadata": {
        "deletable": false,
        "nbgrader": {
          "cell_type": "markdown",
          "checksum": "b1bb0f26c3115f4d7d7f924544ba6de8",
          "grade": true,
          "grade_id": "A1",
          "locked": false,
          "points": 2,
          "schema_version": 3,
          "solution": true,
          "task": false
        },
        "id": "yuz8RADPaolX"
      },
      "source": [
        "Python used data collections to store data such as List Tuple, Set, and Dictionary. Each one of them has different features and usage.\n",
        "1. **list** is collection of items.\n",
        "     *   Lists are ordered data storage structure.\n",
        "     *   Lists allowed all types of values within list.\n",
        "     *   List is mutable or changable.\n",
        "     *   List allowd duplicates items.\n",
        "     *   List denoted by [] brackets.\n",
        "     *   Each list item in a list strored at specific index.\n",
        "     *   The index of list start from 0 to onwards.\n",
        "     *   if we want to slice items from list we cal slice using positive index, negative index from last or specifying range variations.\n",
        "**Creating List:**\n",
        "fruitlist = [\"orange\",\"apple\", \"banana\", \"cherry\"]\n",
        "print(fruitlist) #Print all items in a list\n",
        "print(fruitlist[0] #Print First item in a list\n",
        "print(fruitlist[0:3] #Print First 3 items  list\n",
        "\n",
        "2. **tuple** is collection of items.\n",
        "     *   Tuples are ordered data storage structure.\n",
        "     *   Tuples allowed all types of values within list.\n",
        "     *   Tuples are immutable or not changable.\n",
        "     *   Tuple allowd duplicates items.'\n",
        "     *   Tuples denoted by () brackets.\n",
        "     *   Tuples are used to store multiple values in single variable.\n",
        "     *   Each tuple item in a list strored at specific index.\n",
        "     *   The index of list start from 0 to onwards.\n",
        "     *   Tuple display all items in collection.\n",
        "**Creating Tuple:**\n",
        "fruittiple =tuple((\"orange\",\"apple\", \"banana\", \"cherry\"))\n",
        "print(fruittuple) #Print all items in a tuple.\n",
        "3. **sets** are used to store multiple items in a single variable.\n",
        "     *   Sets are unordered data storage structure.\n",
        "     *   Sets allowed all types of values within list.\n",
        "     *   Sets are immutable or not changable.\n",
        "     *   Sets not allowd duplicates items.'\n",
        "     *   Sets denoted by {} brackets.\n",
        "     *   Sets display all items in collection.\n",
        "**Creating Set:**\n",
        "fruitset=set{\"orange\",\"apple\", \"banana\", \"cherry\"}\n",
        "print(fruitset) #Print all items in a set\n",
        "\n",
        "4. **Dictionaries** are used to store data values in key:value pairs.\n",
        "     *   Dictionary is ordered data storage structure.\n",
        "     *   Dictionary allowed all types of values within list.\n",
        "     *   Dictionary is mutable or changable.\n",
        "     *   Dictionary not allowd duplicates items.'\n",
        "     *   Dictionary denoted by {} brackets.\n",
        "     *   Dictionary display  items as Key:value pairs collection.\n",
        "**Creating Dictionary:**\n",
        "fruitPrices=set{\"orange\":60,\"apple\":80, \"banana\":50, \"cherry\":70}\n",
        "print(fruitPrices) #Print all items in a Dictionary\n",
        "print(fruitPrices[\"orange\"])    #Print orange Key and value pair from a Dictionary\n",
        "fruitPrices[\"orange\"]=100  #set new value to orange Key in a Dictionary\n",
        "\n",
        "\n"
      ]
    },
    {
      "cell_type": "code",
      "metadata": {
        "deletable": false,
        "editable": false,
        "nbgrader": {
          "cell_type": "code",
          "checksum": "eac05f55af24ef036be718ea50a5abc5",
          "grade": false,
          "grade_id": "cell-bdbb11386adf6c13",
          "locked": true,
          "schema_version": 3,
          "solution": false,
          "task": false
        },
        "id": "0vl8NQT7aolY"
      },
      "source": [
        ""
      ],
      "execution_count": null,
      "outputs": []
    },
    {
      "cell_type": "markdown",
      "metadata": {
        "deletable": false,
        "editable": false,
        "nbgrader": {
          "cell_type": "markdown",
          "checksum": "6ceecac5b4747119f66afcb8e2e4e890",
          "grade": false,
          "grade_id": "cell-a13189a026c3771d",
          "locked": true,
          "schema_version": 3,
          "solution": false,
          "task": false
        },
        "id": "BGnyozkAaolY"
      },
      "source": [
        "## Match the data types\n",
        "\n",
        "A) 1.0\\\n",
        "B) name\\\n",
        "C) 1\\\n",
        "D) true\n",
        "\n",
        "I. integer\\\n",
        "II. boolean\\\n",
        "III. string\\\n",
        "IV. float\\\n",
        "V. None"
      ]
    },
    {
      "cell_type": "markdown",
      "metadata": {
        "deletable": false,
        "nbgrader": {
          "cell_type": "markdown",
          "checksum": "38e5087b0ebe78439e867ce1a77c9bb6",
          "grade": true,
          "grade_id": "cell-5b0ec5b5f53b7705",
          "locked": false,
          "points": 2,
          "schema_version": 3,
          "solution": true,
          "task": false
        },
        "id": "dCSGQ2uiaolZ"
      },
      "source": [
        "A)1.0 - IV.float\n",
        "B)name- III.string\n",
        "C)1 -   integer\n",
        "D)True -boolean\n"
      ]
    },
    {
      "cell_type": "markdown",
      "metadata": {
        "deletable": false,
        "editable": false,
        "nbgrader": {
          "cell_type": "markdown",
          "checksum": "c8e811b27d911880144df511cdbff7e8",
          "grade": false,
          "grade_id": "Q2",
          "locked": true,
          "schema_version": 3,
          "solution": false,
          "task": false
        },
        "id": "NDF-_5eraola"
      },
      "source": [
        "## Scenario Psuedo Code\n",
        "A general scenario you encounter while cleaning datasets is of strings containing integers and special characters in them. \n",
        "\n",
        "Ex: 'AP09XX8799' is a vehicle number which contains both numbers and the letters. 'AP' is the state code of vehicle registration and other numbers/letters signify other information.\n",
        "\n",
        "If a single line of such statement is given to you, explain the algorithm with psuedo code that you would use to find and differentiate all such letters and digits/special characters ?\n",
        "\n",
        "Instructions:\n",
        "- Enter your solution in the cell block below only. Double click to edit.\n",
        "- Do not edit anything else apart from 'YOUR ANSWER HERE' for your solution"
      ]
    },
    {
      "cell_type": "markdown",
      "metadata": {
        "deletable": false,
        "nbgrader": {
          "cell_type": "markdown",
          "checksum": "932f2babf6b7024bb49654516db0d0cb",
          "grade": true,
          "grade_id": "A2",
          "locked": false,
          "points": 2,
          "schema_version": 3,
          "solution": true,
          "task": false
        },
        "id": "yG3i7z-Iaolb"
      },
      "source": [
        "**Algorithm to retrive letters and digits/special characters** \n",
        "\n",
        "1.   start\n",
        "2.   Declare ch,strch,strno,strsp as string\n",
        "3.   Asign mstr='AP09XX8799'\n",
        "4.   Calculate the length of mstr string\n",
        "5.   Scan every character as ch from string one by one with following checks-\n",
        "    *   check if ch in a string is alphabet then append ch to strch string.\n",
        "    *   check else if ch in a string is digit then append ch to strno string.\n",
        "    *   else append ch in strsp string.\n",
        "6.  Print strch, strno, strsp.\n",
        "7. End.\n",
        "**Pseudocode**\n",
        "\n",
        "1.   Declare ch,strch,strno,strsp as string\n",
        "2.   Asign mstr='AP09XX8799'\n",
        "3.   for ch in len(mstr)\n",
        "        if((ch>=97 and ch<=122) or (ch>=65 and ch<=90)) then\n",
        "        strch += ch\n",
        "        elif((ch>=48) or (ch<=57)) then\n",
        "        strno += ch\n",
        "        else\n",
        "        strsp += ch\n",
        "4.   print strch\n",
        "5.   print strno\n",
        "6.   print strsp\n",
        "\n",
        "\n",
        "\n",
        "\n",
        "\n",
        "\n",
        "\n"
      ]
    },
    {
      "cell_type": "code",
      "metadata": {
        "deletable": false,
        "editable": false,
        "nbgrader": {
          "cell_type": "code",
          "checksum": "4a32da98702e61507f14b6eeb50c7c21",
          "grade": false,
          "grade_id": "cell-c583dcd635f03dab",
          "locked": true,
          "schema_version": 3,
          "solution": false,
          "task": false
        },
        "id": "UcMqDTucaolb"
      },
      "source": [
        ""
      ],
      "execution_count": null,
      "outputs": []
    },
    {
      "cell_type": "markdown",
      "metadata": {
        "deletable": false,
        "editable": false,
        "nbgrader": {
          "cell_type": "markdown",
          "checksum": "5ef100d3dc61d87b5fd6626cb92ade87",
          "grade": false,
          "grade_id": "Q3",
          "locked": true,
          "schema_version": 3,
          "solution": false,
          "task": false
        },
        "id": "SaLRQeHTaolc"
      },
      "source": [
        "## Greatest Common Divisor\n",
        "\n",
        "Write a program to find the greatest common divisor for two numbers\n",
        "\n",
        "Instructions:\n",
        "- Enter your solution in the cell block below only.\n",
        "- Do not edit anything else apart from 'YOUR ANSWER HERE' for your solution"
      ]
    },
    {
      "cell_type": "code",
      "metadata": {
        "deletable": false,
        "nbgrader": {
          "cell_type": "code",
          "checksum": "0c1086e55e46f4bcc4ce901431420bf8",
          "grade": true,
          "grade_id": "A3",
          "locked": false,
          "points": 2,
          "schema_version": 3,
          "solution": true,
          "task": false
        },
        "id": "p8i3TXihaolc"
      },
      "source": [
        "def cgcd(x, y):\n",
        "    if x > y:\n",
        "        smaller = y\n",
        "    else:\n",
        "        smaller = x\n",
        "    for i in range(1, smaller+1):\n",
        "        if((x % i == 0) and (y % i == 0)):\n",
        "            gd = i \n",
        "    return gd\n",
        "\n",
        "num1 = int(input(\"enter first No\")) \n",
        "num2 = int(input(\"enter second No\"))\n",
        "\n",
        "print(\"The Greatest Common Devider of No: {} and No2: {} is==> {}\".format(num1,num2,cgcd(num1, num2)))"
      ],
      "execution_count": null,
      "outputs": []
    },
    {
      "cell_type": "code",
      "metadata": {
        "deletable": false,
        "editable": false,
        "nbgrader": {
          "cell_type": "code",
          "checksum": "f88b0eebd4d316703cf56b4c48a72efa",
          "grade": false,
          "grade_id": "cell-f0e0b9c35862e705",
          "locked": true,
          "schema_version": 3,
          "solution": false,
          "task": false
        },
        "id": "zjHLjMtmaold"
      },
      "source": [
        ""
      ],
      "execution_count": null,
      "outputs": []
    },
    {
      "cell_type": "markdown",
      "metadata": {
        "deletable": false,
        "editable": false,
        "nbgrader": {
          "cell_type": "markdown",
          "checksum": "0b48b77acc592a14a5eab148294322c2",
          "grade": false,
          "grade_id": "Q4",
          "locked": true,
          "schema_version": 3,
          "solution": false,
          "task": false
        },
        "id": "uFGacFEJaole"
      },
      "source": [
        "## List Operations\n",
        "\n",
        "Given two lists, write a program to perform the following operations on the lists;\n",
        "- Union\n",
        "- Intersection\n",
        "- Left Difference\n",
        "- Right Difference\n",
        "\n",
        "Instructions:\n",
        "- Enter your solution in the cell block below only.\n",
        "- Do not edit anything else apart from 'YOUR ANSWER HERE' for your solution"
      ]
    },
    {
      "cell_type": "code",
      "metadata": {
        "deletable": false,
        "nbgrader": {
          "cell_type": "code",
          "checksum": "fa02304f91d4af359eb00de7102f5cfe",
          "grade": true,
          "grade_id": "A4",
          "locked": false,
          "points": 2,
          "schema_version": 3,
          "solution": true,
          "task": false
        },
        "id": "69QYheKsaole"
      },
      "source": [
        "#List union \n",
        "fruitlist=[\"Orange\",\"Banana\",\"Apple\"]\n",
        "print(\"The fruitlist items are=\",fruitlist)\n",
        "pricelist=[120,40,200,\"Orange\",\"Banana\",\"Apple\"]\n",
        "print(\"The pricelist items=\",pricelist)\n",
        "newlist=fruitlist + pricelist\n",
        "print(\"The new union List items are\",newlist)"
      ],
      "execution_count": null,
      "outputs": []
    },
    {
      "cell_type": "code",
      "metadata": {
        "deletable": false,
        "editable": false,
        "nbgrader": {
          "cell_type": "code",
          "checksum": "f1b559db59d3786992d7062d60fced26",
          "grade": false,
          "grade_id": "cell-6975b5c3cd3b6be9",
          "locked": true,
          "schema_version": 3,
          "solution": false,
          "task": false
        },
        "id": "WZ4o_yUwaole"
      },
      "source": [
        "#intersection operation on list\n",
        "intlist2=list(set(fruitlist) & set(pricelist))\n",
        "intlist2"
      ],
      "execution_count": null,
      "outputs": []
    },
    {
      "cell_type": "code",
      "metadata": {
        "id": "M-VngCSfsPIh"
      },
      "source": [
        "#left Difference\n",
        "fruitlist.append(\"Grapes\")\n",
        "seta=set(fruitlist)\n",
        "setb=set(pricelist)\n",
        "leftdifflist=list(seta.difference(setb))\n",
        "leftdifflist"
      ],
      "execution_count": null,
      "outputs": []
    },
    {
      "cell_type": "code",
      "metadata": {
        "id": "tE53g-rwsZoH"
      },
      "source": [
        "#Right Diffrence\n",
        "rightdifflist=list(setb.difference(seta))\n",
        "rightdifflist"
      ],
      "execution_count": null,
      "outputs": []
    },
    {
      "cell_type": "code",
      "metadata": {
        "id": "eX9DOVCXtePL"
      },
      "source": [
        ""
      ],
      "execution_count": null,
      "outputs": []
    }
  ]
}